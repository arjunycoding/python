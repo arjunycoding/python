{
 "cells": [
  {
   "cell_type": "markdown",
   "id": "f09925e2",
   "metadata": {
    "slideshow": {
     "slide_type": "notes"
    }
   },
   "source": [
    "# FUNCTIONAL PROGRAMING"
   ]
  },
  {
   "cell_type": "markdown",
   "id": "0e4aa8f3",
   "metadata": {},
   "source": [
    "All about packing your code so that everything is orginized. Each section helps the program do one thing."
   ]
  },
  {
   "cell_type": "markdown",
   "id": "ca0af3e5",
   "metadata": {},
   "source": [
    "## Pure Function"
   ]
  },
  {
   "cell_type": "markdown",
   "id": "33b70977",
   "metadata": {},
   "source": [
    "THE TWO RULES:\n",
    "    1. If given the same input will result in the same output\n",
    "    2. Should not affect the outside the world\n",
    "\n",
    "### IS THIS A PURE FUNCTION?"
   ]
  },
  {
   "cell_type": "code",
   "execution_count": 14,
   "id": "0026c7d0",
   "metadata": {},
   "outputs": [],
   "source": [
    "def multiply(ls):\n",
    "    newList = []\n",
    "    for i in ls:\n",
    "        newList.append(i * 2)\n",
    "    return newList"
   ]
  },
  {
   "cell_type": "markdown",
   "id": "d47f4580",
   "metadata": {},
   "source": [
    "###### IT IS!\n"
   ]
  },
  {
   "cell_type": "markdown",
   "id": "57888d17",
   "metadata": {},
   "source": [
    "## map()"
   ]
  },
  {
   "cell_type": "code",
   "execution_count": 17,
   "id": "1aa9edcb",
   "metadata": {
    "collapsed": true
   },
   "outputs": [
    {
     "ename": "TypeError",
     "evalue": "'int' object is not iterable",
     "output_type": "error",
     "traceback": [
      "\u001b[0;31m---------------------------------------------------------------------------\u001b[0m",
      "\u001b[0;31mTypeError\u001b[0m                                 Traceback (most recent call last)",
      "\u001b[0;32m/tmp/ipykernel_5436/2854146140.py\u001b[0m in \u001b[0;36m<module>\u001b[0;34m\u001b[0m\n\u001b[1;32m      4\u001b[0m         \u001b[0mnewList\u001b[0m\u001b[0;34m.\u001b[0m\u001b[0mappend\u001b[0m\u001b[0;34m(\u001b[0m\u001b[0mi\u001b[0m \u001b[0;34m*\u001b[0m \u001b[0;36m2\u001b[0m\u001b[0;34m)\u001b[0m\u001b[0;34m\u001b[0m\u001b[0;34m\u001b[0m\u001b[0m\n\u001b[1;32m      5\u001b[0m     \u001b[0;32mreturn\u001b[0m \u001b[0mnewList\u001b[0m\u001b[0;34m\u001b[0m\u001b[0;34m\u001b[0m\u001b[0m\n\u001b[0;32m----> 6\u001b[0;31m \u001b[0mprint\u001b[0m\u001b[0;34m(\u001b[0m\u001b[0mlist\u001b[0m\u001b[0;34m(\u001b[0m\u001b[0mmap\u001b[0m\u001b[0;34m(\u001b[0m\u001b[0mmultiply\u001b[0m\u001b[0;34m,\u001b[0m \u001b[0;34m[\u001b[0m\u001b[0;36m1\u001b[0m\u001b[0;34m,\u001b[0m\u001b[0;36m2\u001b[0m\u001b[0;34m,\u001b[0m\u001b[0;36m3\u001b[0m\u001b[0;34m]\u001b[0m\u001b[0;34m)\u001b[0m\u001b[0;34m)\u001b[0m\u001b[0;34m)\u001b[0m\u001b[0;34m\u001b[0m\u001b[0;34m\u001b[0m\u001b[0m\n\u001b[0m",
      "\u001b[0;32m/tmp/ipykernel_5436/2854146140.py\u001b[0m in \u001b[0;36mmultiply\u001b[0;34m(ls)\u001b[0m\n\u001b[1;32m      1\u001b[0m \u001b[0;32mdef\u001b[0m \u001b[0mmultiply\u001b[0m\u001b[0;34m(\u001b[0m\u001b[0mls\u001b[0m\u001b[0;34m)\u001b[0m\u001b[0;34m:\u001b[0m\u001b[0;34m\u001b[0m\u001b[0;34m\u001b[0m\u001b[0m\n\u001b[1;32m      2\u001b[0m     \u001b[0mnewList\u001b[0m \u001b[0;34m=\u001b[0m \u001b[0;34m[\u001b[0m\u001b[0;34m]\u001b[0m\u001b[0;34m\u001b[0m\u001b[0;34m\u001b[0m\u001b[0m\n\u001b[0;32m----> 3\u001b[0;31m     \u001b[0;32mfor\u001b[0m \u001b[0mi\u001b[0m \u001b[0;32min\u001b[0m \u001b[0mls\u001b[0m\u001b[0;34m:\u001b[0m\u001b[0;34m\u001b[0m\u001b[0;34m\u001b[0m\u001b[0m\n\u001b[0m\u001b[1;32m      4\u001b[0m         \u001b[0mnewList\u001b[0m\u001b[0;34m.\u001b[0m\u001b[0mappend\u001b[0m\u001b[0;34m(\u001b[0m\u001b[0mi\u001b[0m \u001b[0;34m*\u001b[0m \u001b[0;36m2\u001b[0m\u001b[0;34m)\u001b[0m\u001b[0;34m\u001b[0m\u001b[0;34m\u001b[0m\u001b[0m\n\u001b[1;32m      5\u001b[0m     \u001b[0;32mreturn\u001b[0m \u001b[0mnewList\u001b[0m\u001b[0;34m\u001b[0m\u001b[0;34m\u001b[0m\u001b[0m\n",
      "\u001b[0;31mTypeError\u001b[0m: 'int' object is not iterable"
     ]
    }
   ],
   "source": [
    "def multiply(ls):\n",
    "    newList = []\n",
    "    for i in ls:\n",
    "        newList.append(i * 2)\n",
    "    return newList\n",
    "print(list(map(multiply, [1,2,3])))"
   ]
  },
  {
   "cell_type": "markdown",
   "id": "d0d8a67b",
   "metadata": {},
   "source": [
    "the reason why we get an error is because we don't need all the code inside the function intead we just need:"
   ]
  },
  {
   "cell_type": "code",
   "execution_count": 19,
   "id": "1d88456b",
   "metadata": {},
   "outputs": [
    {
     "name": "stdout",
     "output_type": "stream",
     "text": [
      "[2, 4, 6]\n"
     ]
    }
   ],
   "source": [
    "def multiply(ls):\n",
    "    return ls * 2\n",
    "print(list(map(multiply, [1,2,3])))"
   ]
  },
  {
   "cell_type": "markdown",
   "id": "952170d9",
   "metadata": {},
   "source": [
    "the map function just wants the function and the thing to apply it on. Map takes care of itterating over ls, append the item, and finding the function()it dosn't have the bractets."
   ]
  },
  {
   "cell_type": "markdown",
   "id": "0731aeba",
   "metadata": {},
   "source": [
    "## filter()"
   ]
  },
  {
   "cell_type": "code",
   "execution_count": 21,
   "id": "e471aa6b",
   "metadata": {},
   "outputs": [
    {
     "name": "stdout",
     "output_type": "stream",
     "text": [
      "[1, 3]\n"
     ]
    }
   ],
   "source": [
    "def checkOdd(item):\n",
    "    return item % 2 != 0\n",
    "\n",
    "print(list(filter(checkOdd, [1,2,3])))"
   ]
  },
  {
   "cell_type": "markdown",
   "id": "63941278",
   "metadata": {},
   "source": [
    "Filter takes care of filtering the function and then applys the return statment to each index of the list"
   ]
  },
  {
   "cell_type": "markdown",
   "id": "f74e5f61",
   "metadata": {},
   "source": [
    "## zip()"
   ]
  },
  {
   "cell_type": "code",
   "execution_count": 22,
   "id": "36dbf4a2",
   "metadata": {},
   "outputs": [
    {
     "name": "stdout",
     "output_type": "stream",
     "text": [
      "[(1, 10), (2, 20), (3, 30)]\n"
     ]
    }
   ],
   "source": [
    "ls1 = [1,2,3]\n",
    "ls2 = [10,20,30]\n",
    "print(list(zip(ls1, ls2)))"
   ]
  },
  {
   "cell_type": "markdown",
   "id": "75a1e984",
   "metadata": {},
   "source": [
    "takes the first index of each list and turns the pair into a tuple and then the set of tupes to a list"
   ]
  },
  {
   "cell_type": "markdown",
   "id": "380f25b1",
   "metadata": {},
   "source": [
    "### NOTE"
   ]
  },
  {
   "cell_type": "code",
   "execution_count": 1,
   "id": "c6ddbb21",
   "metadata": {},
   "outputs": [
    {
     "name": "stdout",
     "output_type": "stream",
     "text": [
      "[('a', 5), ('b', 4), ('c', 3), ('d', 2), ('e', 1)]\n"
     ]
    }
   ],
   "source": [
    "ls1 = ['a', 'b', 'c', 'd', 'e']\n",
    "ls2 = [5,4,3,2,1]\n",
    "print(list(zip(ls1, ls2)))"
   ]
  },
  {
   "cell_type": "markdown",
   "id": "56cac7a5",
   "metadata": {},
   "source": [
    "If any extra indexs just drops them"
   ]
  },
  {
   "cell_type": "markdown",
   "id": "856c9a10",
   "metadata": {},
   "source": [
    "## reduce()"
   ]
  },
  {
   "cell_type": "code",
   "execution_count": 32,
   "id": "ecc572e2",
   "metadata": {},
   "outputs": [
    {
     "name": "stdout",
     "output_type": "stream",
     "text": [
      "0 1\n",
      "1 2\n",
      "3 3\n",
      "6\n"
     ]
    }
   ],
   "source": [
    "from functools import reduce\n",
    "\n",
    "ls1 = [1,2,3]\n",
    "\n",
    "def accumulator(acc, item):\n",
    "    print(acc, item)\n",
    "    return acc + item\n",
    "\n",
    "print(reduce(accumulator, ls1, 0))"
   ]
  },
  {
   "cell_type": "markdown",
   "id": "db1fef3e",
   "metadata": {},
   "source": [
    "So... what happend. Well first the comput runs:\n",
    "\n",
    "    print(acc, item)\n",
    "    return acc.item\n",
    "\n",
    "then on the sond run the third parameter becomes what we reutnrd and then the cycle contiunes"
   ]
  }
 ],
 "metadata": {
  "kernelspec": {
   "display_name": "Python 3 (ipykernel)",
   "language": "python",
   "name": "python3"
  },
  "language_info": {
   "codemirror_mode": {
    "name": "ipython",
    "version": 3
   },
   "file_extension": ".py",
   "mimetype": "text/x-python",
   "name": "python",
   "nbconvert_exporter": "python",
   "pygments_lexer": "ipython3",
   "version": "3.9.7"
  }
 },
 "nbformat": 4,
 "nbformat_minor": 5
}
