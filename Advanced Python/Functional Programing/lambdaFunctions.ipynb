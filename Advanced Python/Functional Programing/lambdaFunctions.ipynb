{
 "cells": [
  {
   "cell_type": "markdown",
   "id": "92aaf31e",
   "metadata": {},
   "source": [
    "# Lambda Functions"
   ]
  },
  {
   "cell_type": "markdown",
   "id": "8942d5a4",
   "metadata": {},
   "source": [
    "lambda functions are functions you only use once in you code and they are anonumuys."
   ]
  },
  {
   "cell_type": "markdown",
   "id": "aad074a4",
   "metadata": {},
   "source": [
    "here is the format of a lambda function\n",
    "\n",
    "    lambda param: action(param) "
   ]
  },
  {
   "cell_type": "code",
   "execution_count": 2,
   "id": "7b113925",
   "metadata": {},
   "outputs": [
    {
     "name": "stdout",
     "output_type": "stream",
     "text": [
      "['SISI', 'BIBI', 'TITI', 'CARLA']\n"
     ]
    }
   ],
   "source": [
    "my_pets = ['sisi', 'bibi', 'titi', 'carla']\n",
    "# This function is only used once\n",
    "def uppercase(ls):\n",
    "    return ls.upper()\n",
    "print(list(map(uppercase, my_pets)))"
   ]
  },
  {
   "cell_type": "markdown",
   "id": "4d9bbb15",
   "metadata": {},
   "source": [
    "Turn it into lambda:"
   ]
  },
  {
   "cell_type": "code",
   "execution_count": 3,
   "id": "3a130c90",
   "metadata": {},
   "outputs": [
    {
     "name": "stdout",
     "output_type": "stream",
     "text": [
      "['SISI', 'BIBI', 'TITI', 'CARLA']\n"
     ]
    }
   ],
   "source": [
    "my_pets = ['sisi', 'bibi', 'titi', 'carla']\n",
    "\n",
    "print(list(map(lambda item: item.upper(), my_pets)))"
   ]
  },
  {
   "cell_type": "markdown",
   "id": "5e2537bc",
   "metadata": {},
   "source": [
    "### NOTE:\n",
    "this function is immdeitly deleted right after they are used"
   ]
  },
  {
   "cell_type": "code",
   "execution_count": null,
   "id": "b384877d",
   "metadata": {},
   "outputs": [],
   "source": []
  }
 ],
 "metadata": {
  "kernelspec": {
   "display_name": "Python 3 (ipykernel)",
   "language": "python",
   "name": "python3"
  },
  "language_info": {
   "codemirror_mode": {
    "name": "ipython",
    "version": 3
   },
   "file_extension": ".py",
   "mimetype": "text/x-python",
   "name": "python",
   "nbconvert_exporter": "python",
   "pygments_lexer": "ipython3",
   "version": "3.9.7"
  }
 },
 "nbformat": 4,
 "nbformat_minor": 5
}
