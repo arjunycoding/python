{
 "cells": [
  {
   "cell_type": "markdown",
   "id": "edd578ef",
   "metadata": {},
   "source": [
    "# CREATING OBJECTS & CLASSES"
   ]
  },
  {
   "cell_type": "code",
   "execution_count": 12,
   "id": "3cba632a",
   "metadata": {},
   "outputs": [
    {
     "name": "stdout",
     "output_type": "stream",
     "text": [
      "50 False\n",
      "run\n",
      "done\n",
      "Arjun 11\n"
     ]
    }
   ],
   "source": [
    "class PlayerCharacter:\n",
    "    membership = True #CLASS OBJECT ATTRIBUTE\n",
    "    def __init__(self, name, age):\n",
    "        if (self.membership):\n",
    "            self.name = name\n",
    "            self.age = age\n",
    "    \n",
    "    def run(self):\n",
    "        print('run')\n",
    "        return 'done'\n",
    "\n",
    "player1 = PlayerCharacter(\"Arjun\", 11)\n",
    "player1.attack = 50\n",
    "print(player1.attack, player1.membership)\n",
    "print(player1.run())\n",
    "print(player1.name, player1.age)"
   ]
  },
  {
   "cell_type": "markdown",
   "id": "c466943b",
   "metadata": {},
   "source": [
    "INIT: Often known as the constructor method it is atomatically called when we use player1.\n",
    "\n",
    "SELF: refers to the varible name(in this case player1)\n",
    "\n",
    "CLASS OBJECT ATTRIBUTE: Basicly it's name, an attribute to the class"
   ]
  },
  {
   "cell_type": "markdown",
   "id": "0b6e288d",
   "metadata": {},
   "source": [
    "We first start writing:\n",
    "\n",
    "    class <ClassName>:\n",
    "        def __init__(self, <attribute1>, <attribute2>):\n",
    "            self.<attribute1> = <attribute1>\n",
    "            self.<attribute2> = <attribute2>\n",
    "            \n",
    "then you can follow it by any function you want, but you always have to pass a parameter of 'self'.Example:\n",
    "    \n",
    "        def <functionName>(self, <extraParameters>):\n",
    "            <functionCode>"
   ]
  },
  {
   "cell_type": "markdown",
   "id": "e10c8a62",
   "metadata": {},
   "source": [
    "To make the an object using the blueprint or class you follow this format:\n",
    "\n",
    "    <varibleName> = <ClassName>(<parametersNeeded>)"
   ]
  },
  {
   "cell_type": "markdown",
   "id": "1cea69a7",
   "metadata": {},
   "source": [
    "## MAKING METHODS"
   ]
  },
  {
   "cell_type": "code",
   "execution_count": 14,
   "id": "df17ea28",
   "metadata": {},
   "outputs": [],
   "source": [
    "class Dog:\n",
    "    def __init__(self, name, age):\n",
    "        self.name = name\n",
    "        self.age = age\n",
    "        \n",
    "    @classmethod\n",
    "    def add(cls, num1, num2):\n",
    "        return num1 + num2"
   ]
  },
  {
   "cell_type": "markdown",
   "id": "03b8d45b",
   "metadata": {},
   "source": [
    "Whats so speacial?"
   ]
  },
  {
   "cell_type": "code",
   "execution_count": 16,
   "id": "e6c8c30d",
   "metadata": {
    "scrolled": true
   },
   "outputs": [
    {
     "name": "stdout",
     "output_type": "stream",
     "text": [
      "3\n"
     ]
    }
   ],
   "source": [
    "class Dog:\n",
    "    def __init__(self, name, age):\n",
    "        self.name = name\n",
    "        self.age = age\n",
    "        \n",
    "    @classmethod\n",
    "    def add(cls, num1, num2):\n",
    "        return num1 + num2\n",
    "    \n",
    "print(Dog.add(1,2))"
   ]
  },
  {
   "cell_type": "markdown",
   "id": "480a012e",
   "metadata": {},
   "source": [
    "We first use the @classmethod decorator and then follow it by a function with our own personalizations. However, we have to add the 'cls' parameter for it to work. What makes this so specail is that we don't have to have a object for it to work we can just say the class nme and call the method"
   ]
  },
  {
   "cell_type": "markdown",
   "id": "73bb4d03",
   "metadata": {},
   "source": [
    "## PRIVATE VARIBLES"
   ]
  },
  {
   "cell_type": "code",
   "execution_count": 17,
   "id": "0f5a3c42",
   "metadata": {},
   "outputs": [
    {
     "data": {
      "text/plain": [
       "'HElLO'"
      ]
     },
     "execution_count": 17,
     "metadata": {},
     "output_type": "execute_result"
    }
   ],
   "source": [
    "class Dog:\n",
    "    def __init__(self, name, age):\n",
    "        self.name = name\n",
    "        self.age = age\n",
    "        \n",
    "    def bark():\n",
    "        print(\"BARK BARK\")\n",
    "        \n",
    "tom = Dog(\"Tom\", \"5\")\n",
    "tom.bark = \"HElLO\"\n",
    "tom.bark"
   ]
  },
  {
   "cell_type": "markdown",
   "id": "ac0fb875",
   "metadata": {},
   "source": [
    "Being able to do that isn't good here is the soultion:"
   ]
  },
  {
   "cell_type": "code",
   "execution_count": 18,
   "id": "cd436cd7",
   "metadata": {},
   "outputs": [
    {
     "data": {
      "text/plain": [
       "'HElLO'"
      ]
     },
     "execution_count": 18,
     "metadata": {},
     "output_type": "execute_result"
    }
   ],
   "source": [
    "class Dog:\n",
    "    def __init__(self, name, age):\n",
    "        self._name = name\n",
    "        self._age = age\n",
    "        \n",
    "    def bark(self):\n",
    "        print(\"BARK BARK\")\n",
    "        \n",
    "tom = Dog(\"Tom\", \"5\")\n",
    "tom.bark = \"HElLO\"\n",
    "tom.bark"
   ]
  },
  {
   "cell_type": "markdown",
   "id": "9fd2d34d",
   "metadata": {},
   "source": [
    "The truth is, this DOSN'T do ANYTHING at ALL. However, it tells other people in the python communitiy \"hey this is a private varible. Please don't touch this\""
   ]
  },
  {
   "cell_type": "markdown",
   "id": "057cc55b",
   "metadata": {},
   "source": [
    "## INHERATANCE\n",
    "\n",
    "What if you wanted to give the same functionallity to different classes?"
   ]
  },
  {
   "cell_type": "code",
   "execution_count": 2,
   "id": "a9b80414",
   "metadata": {},
   "outputs": [
    {
     "name": "stdout",
     "output_type": "stream",
     "text": [
      "logged in\n",
      "None\n"
     ]
    }
   ],
   "source": [
    "class User:\n",
    "    def sign_in(self):\n",
    "        print(\"logged in\")\n",
    "        \n",
    "class Wizard(User):\n",
    "    pass\n",
    "\n",
    "class Archer(User):\n",
    "    pass\n",
    "wizard1 = Wizard()\n",
    "print(wizard1.sign_in())"
   ]
  },
  {
   "cell_type": "markdown",
   "id": "e1c26589",
   "metadata": {},
   "source": [
    "you can add () and insert the class you want to inherrite"
   ]
  },
  {
   "cell_type": "markdown",
   "id": "23887de8",
   "metadata": {},
   "source": [
    "## super()\n",
    "will this work? click the three dots to find out()"
   ]
  },
  {
   "cell_type": "code",
   "execution_count": 3,
   "id": "2a0e2c9c",
   "metadata": {
    "collapsed": true
   },
   "outputs": [
    {
     "ename": "TypeError",
     "evalue": "__init__() missing 2 required positional arguments: 'name' and 'power'",
     "output_type": "error",
     "traceback": [
      "\u001b[0;31m---------------------------------------------------------------------------\u001b[0m",
      "\u001b[0;31mTypeError\u001b[0m                                 Traceback (most recent call last)",
      "\u001b[0;32m/tmp/ipykernel_6197/2687009473.py\u001b[0m in \u001b[0;36m<module>\u001b[0;34m\u001b[0m\n\u001b[1;32m     13\u001b[0m \u001b[0;32mclass\u001b[0m \u001b[0mArcher\u001b[0m\u001b[0;34m(\u001b[0m\u001b[0mUser\u001b[0m\u001b[0;34m)\u001b[0m\u001b[0;34m:\u001b[0m\u001b[0;34m\u001b[0m\u001b[0;34m\u001b[0m\u001b[0m\n\u001b[1;32m     14\u001b[0m     \u001b[0;32mpass\u001b[0m\u001b[0;34m\u001b[0m\u001b[0;34m\u001b[0m\u001b[0m\n\u001b[0;32m---> 15\u001b[0;31m \u001b[0mwizard1\u001b[0m \u001b[0;34m=\u001b[0m \u001b[0mWizard\u001b[0m\u001b[0;34m(\u001b[0m\u001b[0;34m)\u001b[0m\u001b[0;34m\u001b[0m\u001b[0;34m\u001b[0m\u001b[0m\n\u001b[0m\u001b[1;32m     16\u001b[0m \u001b[0mprint\u001b[0m\u001b[0;34m(\u001b[0m\u001b[0mwizard1\u001b[0m\u001b[0;34m.\u001b[0m\u001b[0memail\u001b[0m\u001b[0;34m)\u001b[0m\u001b[0;34m\u001b[0m\u001b[0;34m\u001b[0m\u001b[0m\n",
      "\u001b[0;31mTypeError\u001b[0m: __init__() missing 2 required positional arguments: 'name' and 'power'"
     ]
    }
   ],
   "source": [
    "class User:\n",
    "    def __init__(self, email):\n",
    "        self.email = email\n",
    "    \n",
    "    def sign_in(self, email):\n",
    "        print(\"logged in\")\n",
    "        \n",
    "class Wizard(User):\n",
    "    def __init__(self, name, power):\n",
    "        self.name = name\n",
    "        self.power = power\n",
    "\n",
    "wizard1 = Wizard()\n",
    "print(wizard1.email)"
   ]
  },
  {
   "cell_type": "markdown",
   "id": "84871784",
   "metadata": {},
   "source": [
    "### Solution 1"
   ]
  },
  {
   "cell_type": "code",
   "execution_count": 4,
   "id": "34112b94",
   "metadata": {},
   "outputs": [
    {
     "name": "stdout",
     "output_type": "stream",
     "text": [
      "merlin@gmail.com\n"
     ]
    }
   ],
   "source": [
    "class User:\n",
    "    def __init__(self, email):\n",
    "        self.email = email\n",
    "    \n",
    "    def sign_in(self, email):\n",
    "        print(\"logged in\")\n",
    "        \n",
    "class Wizard(User):\n",
    "    def __init__(self, name, power, email):\n",
    "        User.__init__(self, email)\n",
    "        self.name = name\n",
    "        self.power = power\n",
    "    \n",
    "    def attack(self):\n",
    "        print(f'attacking with power of {self.power}')\n",
    "\n",
    "wizard1 = Wizard('Merlin', 60, 'merlin@gmail.com')\n",
    "print(wizard1.email)"
   ]
  },
  {
   "cell_type": "markdown",
   "id": "1553fb90",
   "metadata": {},
   "source": [
    "### Solution 2"
   ]
  },
  {
   "cell_type": "code",
   "execution_count": 19,
   "id": "320210f3",
   "metadata": {},
   "outputs": [
    {
     "name": "stdout",
     "output_type": "stream",
     "text": [
      "attacking with power of 60\n",
      "None\n"
     ]
    }
   ],
   "source": [
    "class User:\n",
    "    def __init__(self, email):\n",
    "        self.email = email\n",
    "    \n",
    "    def sign_in(self, email):\n",
    "        print(\"logged in\")\n",
    "        \n",
    "class Wizard(User):\n",
    "    def __init__(self, name, power, email):\n",
    "        super().__init__(email)\n",
    "        self.name = name\n",
    "        self.power = power\n",
    "    \n",
    "    def attack(self):\n",
    "        print(f'attacking with power of {self.power}')\n",
    "\n",
    "wizard1 = Wizard('Merlin', 60, 'merlin@gmail.com')\n",
    "print(wizard1.email)"
   ]
  },
  {
   "cell_type": "markdown",
   "id": "2c7baeae",
   "metadata": {},
   "source": [
    "## MUTLIPLE  INHHERITANCE"
   ]
  },
  {
   "cell_type": "code",
   "execution_count": 58,
   "id": "6e4a7fbd",
   "metadata": {},
   "outputs": [
    {
     "name": "stdout",
     "output_type": "stream",
     "text": [
      "attacking with 100 arrows\n",
      "None\n",
      "attacking with power of 50\n",
      "None\n",
      "logged in\n",
      "None\n"
     ]
    }
   ],
   "source": [
    "class User:    \n",
    "    def sign_in(self):\n",
    "        print(\"logged in\")\n",
    "\n",
    "class Archer(User):\n",
    "    def __init__(self, name, arrows):\n",
    "        self.name = name\n",
    "        self.arrows = arrows\n",
    "    \n",
    "    def arrow_attack(self):\n",
    "        print(f'attacking with {self.arrows} arrows')\n",
    "\n",
    "class Wizard(User):\n",
    "    def __init__(self, name, power):\n",
    "        self.name = name\n",
    "        self.power = power\n",
    "    \n",
    "    def pectoras_bublimas(self):\n",
    "        print(f'attacking with power of {self.power}')\n",
    "\n",
    "        \n",
    "class HybridBorg(Wizard, Archer):\n",
    "    def __init__(self, name, power, arrows):\n",
    "        Archer.__init__(self, name, arrows)\n",
    "        Wizard.__init__(self, name, power)\n",
    "\n",
    "hb1 = HybridBorg('borgie', 50, 100)\n",
    "print(hb1.arrow_attack())\n",
    "print(hb1.pectoras_bublimas())\n",
    "print(hb1.sign_in())"
   ]
  },
  {
   "cell_type": "code",
   "execution_count": null,
   "id": "73b9b969",
   "metadata": {},
   "outputs": [],
   "source": []
  },
  {
   "cell_type": "code",
   "execution_count": null,
   "id": "a041d2c4",
   "metadata": {},
   "outputs": [],
   "source": []
  }
 ],
 "metadata": {
  "kernelspec": {
   "display_name": "Python 3 (ipykernel)",
   "language": "python",
   "name": "python3"
  },
  "language_info": {
   "codemirror_mode": {
    "name": "ipython",
    "version": 3
   },
   "file_extension": ".py",
   "mimetype": "text/x-python",
   "name": "python",
   "nbconvert_exporter": "python",
   "pygments_lexer": "ipython3",
   "version": "3.9.7"
  }
 },
 "nbformat": 4,
 "nbformat_minor": 5
}
