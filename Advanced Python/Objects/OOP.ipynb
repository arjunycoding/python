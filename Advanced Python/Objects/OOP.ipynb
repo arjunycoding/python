{
 "cells": [
  {
   "cell_type": "markdown",
   "id": "45612e6a",
   "metadata": {},
   "source": [
    "# OBJECT ORIENTED PROGRAMING\n",
    "Object orented programing(OOP) is a way to think about, and a way to sturucture you code"
   ]
  },
  {
   "cell_type": "markdown",
   "id": "869bd20c",
   "metadata": {},
   "source": [
    "To create a new object you first use the 'class' keyword. After that, put a name for your object. Make sure to use pascal case where every word begins with a capital letter."
   ]
  },
  {
   "cell_type": "code",
   "execution_count": 8,
   "id": "9950ed8e",
   "metadata": {},
   "outputs": [],
   "source": [
    "# class\n",
    "class BigObject:\n",
    "    pass\n",
    "\n",
    "# Objects\n",
    "obj1 = BigObject()\n",
    "obj2 = BigObject()\n",
    "obj3 = BigObject()"
   ]
  },
  {
   "cell_type": "markdown",
   "id": "03d11d5b",
   "metadata": {},
   "source": [
    "## Class:\n",
    "The blue print for you want to you create\n",
    "## Object:\n",
    "What you create using the blueprint or class"
   ]
  },
  {
   "cell_type": "code",
   "execution_count": null,
   "id": "1433b191",
   "metadata": {},
   "outputs": [],
   "source": []
  }
 ],
 "metadata": {
  "kernelspec": {
   "display_name": "Python 3 (ipykernel)",
   "language": "python",
   "name": "python3"
  },
  "language_info": {
   "codemirror_mode": {
    "name": "ipython",
    "version": 3
   },
   "file_extension": ".py",
   "mimetype": "text/x-python",
   "name": "python",
   "nbconvert_exporter": "python",
   "pygments_lexer": "ipython3",
   "version": "3.9.7"
  }
 },
 "nbformat": 4,
 "nbformat_minor": 5
}
