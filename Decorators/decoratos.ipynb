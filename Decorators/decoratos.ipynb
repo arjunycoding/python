{
 "cells": [
  {
   "cell_type": "markdown",
   "id": "a11c1cd8",
   "metadata": {},
   "source": [
    "# Decorators"
   ]
  },
  {
   "cell_type": "markdown",
   "id": "b45a1e90",
   "metadata": {},
   "source": [
    "things that start with @ and is flowlled by a name Ex\n",
    "    \n",
    "      @classmethod\n",
    "\n",
    "\n",
    "## Higher Order Fucntions HOF\n",
    "These are higher order functions:      \n",
    "      \n",
    "      def greet(func):\n",
    "            func()\n",
    "      \n",
    "      def greet2():\n",
    "            def func(return)\n",
    "                  reuturn 5\n",
    "            reuturn func\n",
    "      \n",
    "      map()\n",
    "      filter()\n",
    "            \n",
    "A HOF is a function that takes in or reutns a function\n"
   ]
  },
  {
   "cell_type": "markdown",
   "id": "b6303614",
   "metadata": {},
   "source": [
    "## How to make a decorator"
   ]
  },
  {
   "cell_type": "code",
   "execution_count": 14,
   "id": "d7701a01",
   "metadata": {},
   "outputs": [
    {
     "name": "stdout",
     "output_type": "stream",
     "text": [
      "**************\n",
      "* helllooooo *\n",
      "**************\n"
     ]
    }
   ],
   "source": [
    "def my_dec(func):\n",
    "    def wrap_func():\n",
    "        print(\"**************\") # prints before function\n",
    "        func() #function is called here\n",
    "        print(\"**************\") #prints after function\n",
    "    return wrap_func\n",
    "\n",
    "@my_dec #insert @<function name here> to SUPERBOOST your function\n",
    "def hello():\n",
    "    print(\"* helllooooo *\")\n",
    "\n",
    "hello()"
   ]
  },
  {
   "cell_type": "markdown",
   "id": "5993d8db",
   "metadata": {},
   "source": [
    "## Paramenters & Decorators"
   ]
  },
  {
   "cell_type": "markdown",
   "id": "21b3dfe7",
   "metadata": {},
   "source": [
    "But what if 'hello' takes a paramenter?"
   ]
  },
  {
   "cell_type": "code",
   "execution_count": 19,
   "id": "b5206079",
   "metadata": {},
   "outputs": [
    {
     "name": "stdout",
     "output_type": "stream",
     "text": [
      "**************\n",
      "helllooooo (o_o)\n",
      "**************\n"
     ]
    }
   ],
   "source": [
    "def my_dec(func):\n",
    "    def wrap_func(greeting, emoji):\n",
    "        print(\"**************\") # prints before function\n",
    "        func(greeting, emoji) #function is called here\n",
    "        print(\"**************\") #prints after function\n",
    "    return wrap_func\n",
    "\n",
    "@my_dec #insert @<function name here> to SUPERBOOST your function\n",
    "def hello(greeting, emoji):\n",
    "    print(greeting, emoji)\n",
    "\n",
    "hello(\"helllooooo\", \"(o_o)\")"
   ]
  },
  {
   "cell_type": "markdown",
   "id": "4dffc202",
   "metadata": {},
   "source": [
    "Even better...."
   ]
  },
  {
   "cell_type": "code",
   "execution_count": 22,
   "id": "c89bf6ec",
   "metadata": {},
   "outputs": [
    {
     "name": "stdout",
     "output_type": "stream",
     "text": [
      "**************\n",
      "Hiiiiiii (o_o)\n",
      "**************\n"
     ]
    }
   ],
   "source": [
    "def my_dec(func):\n",
    "    def wrap_func(*args, **kwargs):\n",
    "        print(\"**************\") # prints before function\n",
    "        func(*args, **kwargs) #function is called here\n",
    "        print(\"**************\") #prints after function\n",
    "    return wrap_func\n",
    "\n",
    "@my_dec #insert @<function name here> to SUPERBOOST your function\n",
    "def hello(greeting, emoji='(o_o)'):\n",
    "    print(greeting, emoji)\n",
    "\n",
    "hello(\"Hiiiiiii\")"
   ]
  },
  {
   "cell_type": "code",
   "execution_count": null,
   "id": "66726827",
   "metadata": {},
   "outputs": [],
   "source": []
  }
 ],
 "metadata": {
  "kernelspec": {
   "display_name": "Python 3 (ipykernel)",
   "language": "python",
   "name": "python3"
  },
  "language_info": {
   "codemirror_mode": {
    "name": "ipython",
    "version": 3
   },
   "file_extension": ".py",
   "mimetype": "text/x-python",
   "name": "python",
   "nbconvert_exporter": "python",
   "pygments_lexer": "ipython3",
   "version": "3.9.9"
  }
 },
 "nbformat": 4,
 "nbformat_minor": 5
}
