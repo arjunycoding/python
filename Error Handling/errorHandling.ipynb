{
 "cells": [
  {
   "cell_type": "markdown",
   "id": "8f494fc2",
   "metadata": {},
   "source": [
    "# Error Handling"
   ]
  },
  {
   "cell_type": "code",
   "execution_count": 2,
   "id": "09011987",
   "metadata": {},
   "outputs": [
    {
     "name": "stdout",
     "output_type": "stream",
     "text": [
      "opop\n"
     ]
    }
   ],
   "source": [
    "age = int(input(\"what is you age?\"))\n",
    "print(age)"
   ]
  },
  {
   "cell_type": "markdown",
   "id": "5da0a9d5",
   "metadata": {},
   "source": [
    "But what if we input 'whwhwhwhhw'? We get an error :( So this is how we fix it:"
   ]
  },
  {
   "cell_type": "code",
   "execution_count": 5,
   "id": "c528b8a8",
   "metadata": {},
   "outputs": [
    {
     "name": "stdout",
     "output_type": "stream",
     "text": [
      "please enter a number\n"
     ]
    }
   ],
   "source": [
    "try:\n",
    "    age = int(input(\"what is you age?\"))\n",
    "    print(age)\n",
    "except:\n",
    "    print('please enter a number')"
   ]
  },
  {
   "cell_type": "markdown",
   "id": "5280808f",
   "metadata": {},
   "source": [
    "Pretty Cool.... but we want it to ask the question again right?"
   ]
  },
  {
   "cell_type": "code",
   "execution_count": 7,
   "id": "3af3900e",
   "metadata": {},
   "outputs": [
    {
     "name": "stdout",
     "output_type": "stream",
     "text": [
      "please enter a number\n",
      "please enter a number\n",
      "please enter a number\n",
      "please enter a number\n",
      "please enter a number\n",
      "please enter a number\n",
      "please enter a number\n",
      "please enter a number\n",
      "please enter a number\n",
      "please enter a number\n",
      "please enter a number\n",
      "please enter a number\n",
      "please enter a number\n",
      "13\n",
      "thank you!\n"
     ]
    }
   ],
   "source": [
    "while True:\n",
    "    try:\n",
    "        age = int(input(\"what is you age?\"))\n",
    "        print(age)\n",
    "    except:\n",
    "        print('please enter a number')\n",
    "    else:\n",
    "        print(\"thank you!\")\n",
    "        break"
   ]
  },
  {
   "cell_type": "markdown",
   "id": "02bfa9e4",
   "metadata": {},
   "source": [
    "So if the try block runs without any errors it goes into the else loop. But what if:"
   ]
  },
  {
   "cell_type": "code",
   "execution_count": 9,
   "id": "ce99c1fe",
   "metadata": {},
   "outputs": [
    {
     "name": "stdout",
     "output_type": "stream",
     "text": [
      "0\n",
      "please enter a number\n",
      "0\n",
      "please enter a number\n",
      "0\n",
      "please enter a number\n",
      "0\n",
      "please enter a number\n",
      "0\n",
      "please enter a number\n",
      "0\n",
      "please enter a number\n",
      "5\n",
      "thank you!\n"
     ]
    }
   ],
   "source": [
    "while True:\n",
    "    try:\n",
    "        age = int(input(\"what is you age?\"))\n",
    "        print(age)\n",
    "        10/age #try to use 0\n",
    "    except:\n",
    "        print('please enter a number')\n",
    "    else:\n",
    "        print(\"thank you!\")\n",
    "        break"
   ]
  },
  {
   "cell_type": "markdown",
   "id": "45a743d1",
   "metadata": {},
   "source": [
    "To fix it:"
   ]
  },
  {
   "cell_type": "code",
   "execution_count": 12,
   "id": "2be020e2",
   "metadata": {},
   "outputs": [
    {
     "name": "stdout",
     "output_type": "stream",
     "text": [
      "0\n",
      "please enter a proper answer\n",
      "1\n",
      "thank you!\n"
     ]
    }
   ],
   "source": [
    "while True:\n",
    "    try:\n",
    "        age = int(input(\"what is you age?\"))\n",
    "        print(age)\n",
    "        10/age #try to use 0\n",
    "    except (ValueError, ZeroDivisionError):\n",
    "        print('please enter a proper answer')\n",
    "    else:\n",
    "        print(\"thank you!\")\n",
    "        break"
   ]
  },
  {
   "cell_type": "markdown",
   "id": "da0f7d54",
   "metadata": {},
   "source": [
    "Heres another cool thing we can do:"
   ]
  },
  {
   "cell_type": "code",
   "execution_count": 17,
   "id": "badea786",
   "metadata": {},
   "outputs": [
    {
     "name": "stdout",
     "output_type": "stream",
     "text": [
      "Whoops something went worng.\n",
      "Here is you error division by zero\n"
     ]
    }
   ],
   "source": [
    "def sum(num1, num2):\n",
    "    try:\n",
    "        return num1/num2\n",
    "    except (ValueError, ZeroDivisionError) as er:\n",
    "        print(f\"Whoops something went worng.\\nHere is you error {er}\")\n",
    "sum(1,0)"
   ]
  },
  {
   "cell_type": "code",
   "execution_count": null,
   "id": "d2a17615",
   "metadata": {},
   "outputs": [],
   "source": []
  }
 ],
 "metadata": {
  "interpreter": {
   "hash": "e7370f93d1d0cde622a1f8e1c04877d8463912d04d973331ad4851f04de6915a"
  },
  "kernelspec": {
   "display_name": "Python 3.9.9 64-bit",
   "language": "python",
   "name": "python3"
  },
  "language_info": {
   "codemirror_mode": {
    "name": "ipython",
    "version": 3
   },
   "file_extension": ".py",
   "mimetype": "text/x-python",
   "name": "python",
   "nbconvert_exporter": "python",
   "pygments_lexer": "ipython3",
   "version": "3.9.9"
  }
 },
 "nbformat": 4,
 "nbformat_minor": 5
}
